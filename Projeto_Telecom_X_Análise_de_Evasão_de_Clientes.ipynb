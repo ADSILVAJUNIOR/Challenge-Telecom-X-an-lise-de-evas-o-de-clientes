{
  "cells": [
    {
      "cell_type": "markdown",
      "metadata": {
        "id": "7-CDBg8lrLwM"
      },
      "source": [
        "# Projeto Telecom X - Análise de Evasão de Clientes (Churn)\n",
        "\n",
        "\n",
        "\n"
      ]
    },
    {
      "cell_type": "markdown",
      "metadata": {
        "id": "j1c5C_9UrU38"
      },
      "source": [
        "## 1. Introdução\n",
        "\n",
        "Este projeto, Telecom X, propõe-se a desvendar as causas da evasão de clientes (churn) em uma empresa de telecomunicações que tem observado um aumento preocupante no cancelamento de seus serviços. Nosso objetivo é transformar dados brutos em insights acionáveis, capacitando a empresa a combater a perda de clientes de forma eficaz.\n",
        "\n",
        "Para isso, o presente estudo abrange as seguintes etapas:\n",
        "\n",
        "Extração e Preparação de Dados: Obteremos os dados necessários via API e, em seguida, realizaremos um tratamento e limpeza rigorosos para garantir a qualidade e consistência do conjunto de dados.\n",
        "\n",
        "Análise Exploratória de Dados (EDA) e Visualizações: Através de uma análise exploratória aprofundada, identificaremos padrões, tendências e anomalias nos dados. Essas descobertas serão complementadas por visualizações claras e impactantes, que destacarão os principais fatores associados ao churn.\n",
        "\n",
        "Recomendações Estratégicas: Com base nos insights extraídos, formularemos recomendações estratégicas e práticas para a empresa, visando a redução significativa da taxa de evasão de clientes.\n",
        "\n",
        "Todas as análises serão conduzidas utilizando o poder da linguagem Python e suas bibliotecas especializadas, incluindo Pandas para manipulação de dados, e Matplotlib e Seaborn para a criação de visualizações.\n"
      ]
    },
    {
      "cell_type": "markdown",
      "metadata": {
        "id": "lsUKjkUWrkfb"
      },
      "source": [
        "## 3. Extração dos Dados\n",
        "\n",
        "Os dados estão armazenados em uma API no GitHub. Abaixo, farei a requisição e carregamento dos dados em um DataFrame.\n",
        "\n"
      ]
    },
    {
      "cell_type": "code",
      "execution_count": 79,
      "metadata": {
        "colab": {
          "base_uri": "https://localhost:8080/",
          "height": 293
        },
        "id": "OxEnRRHXv1nw",
        "outputId": "cbcce4e9-d643-4e5a-ae17-08d641a1052d"
      },
      "outputs": [
        {
          "data": {
            "text/html": [
              "<div>\n",
              "<style scoped>\n",
              "    .dataframe tbody tr th:only-of-type {\n",
              "        vertical-align: middle;\n",
              "    }\n",
              "\n",
              "    .dataframe tbody tr th {\n",
              "        vertical-align: top;\n",
              "    }\n",
              "\n",
              "    .dataframe thead th {\n",
              "        text-align: right;\n",
              "    }\n",
              "</style>\n",
              "<table border=\"1\" class=\"dataframe\">\n",
              "  <thead>\n",
              "    <tr style=\"text-align: right;\">\n",
              "      <th></th>\n",
              "      <th>customerID</th>\n",
              "      <th>Churn</th>\n",
              "      <th>customer</th>\n",
              "      <th>phone</th>\n",
              "      <th>internet</th>\n",
              "      <th>account</th>\n",
              "    </tr>\n",
              "  </thead>\n",
              "  <tbody>\n",
              "    <tr>\n",
              "      <th>0</th>\n",
              "      <td>0002-ORFBO</td>\n",
              "      <td>No</td>\n",
              "      <td>{'gender': 'Female', 'SeniorCitizen': 0, 'Part...</td>\n",
              "      <td>{'PhoneService': 'Yes', 'MultipleLines': 'No'}</td>\n",
              "      <td>{'InternetService': 'DSL', 'OnlineSecurity': '...</td>\n",
              "      <td>{'Contract': 'One year', 'PaperlessBilling': '...</td>\n",
              "    </tr>\n",
              "    <tr>\n",
              "      <th>1</th>\n",
              "      <td>0003-MKNFE</td>\n",
              "      <td>No</td>\n",
              "      <td>{'gender': 'Male', 'SeniorCitizen': 0, 'Partne...</td>\n",
              "      <td>{'PhoneService': 'Yes', 'MultipleLines': 'Yes'}</td>\n",
              "      <td>{'InternetService': 'DSL', 'OnlineSecurity': '...</td>\n",
              "      <td>{'Contract': 'Month-to-month', 'PaperlessBilli...</td>\n",
              "    </tr>\n",
              "    <tr>\n",
              "      <th>2</th>\n",
              "      <td>0004-TLHLJ</td>\n",
              "      <td>Yes</td>\n",
              "      <td>{'gender': 'Male', 'SeniorCitizen': 0, 'Partne...</td>\n",
              "      <td>{'PhoneService': 'Yes', 'MultipleLines': 'No'}</td>\n",
              "      <td>{'InternetService': 'Fiber optic', 'OnlineSecu...</td>\n",
              "      <td>{'Contract': 'Month-to-month', 'PaperlessBilli...</td>\n",
              "    </tr>\n",
              "    <tr>\n",
              "      <th>3</th>\n",
              "      <td>0011-IGKFF</td>\n",
              "      <td>Yes</td>\n",
              "      <td>{'gender': 'Male', 'SeniorCitizen': 1, 'Partne...</td>\n",
              "      <td>{'PhoneService': 'Yes', 'MultipleLines': 'No'}</td>\n",
              "      <td>{'InternetService': 'Fiber optic', 'OnlineSecu...</td>\n",
              "      <td>{'Contract': 'Month-to-month', 'PaperlessBilli...</td>\n",
              "    </tr>\n",
              "    <tr>\n",
              "      <th>4</th>\n",
              "      <td>0013-EXCHZ</td>\n",
              "      <td>Yes</td>\n",
              "      <td>{'gender': 'Female', 'SeniorCitizen': 1, 'Part...</td>\n",
              "      <td>{'PhoneService': 'Yes', 'MultipleLines': 'No'}</td>\n",
              "      <td>{'InternetService': 'Fiber optic', 'OnlineSecu...</td>\n",
              "      <td>{'Contract': 'Month-to-month', 'PaperlessBilli...</td>\n",
              "    </tr>\n",
              "  </tbody>\n",
              "</table>\n",
              "</div>"
            ],
            "text/plain": [
              "   customerID Churn                                           customer  \\\n",
              "0  0002-ORFBO    No  {'gender': 'Female', 'SeniorCitizen': 0, 'Part...   \n",
              "1  0003-MKNFE    No  {'gender': 'Male', 'SeniorCitizen': 0, 'Partne...   \n",
              "2  0004-TLHLJ   Yes  {'gender': 'Male', 'SeniorCitizen': 0, 'Partne...   \n",
              "3  0011-IGKFF   Yes  {'gender': 'Male', 'SeniorCitizen': 1, 'Partne...   \n",
              "4  0013-EXCHZ   Yes  {'gender': 'Female', 'SeniorCitizen': 1, 'Part...   \n",
              "\n",
              "                                             phone  \\\n",
              "0   {'PhoneService': 'Yes', 'MultipleLines': 'No'}   \n",
              "1  {'PhoneService': 'Yes', 'MultipleLines': 'Yes'}   \n",
              "2   {'PhoneService': 'Yes', 'MultipleLines': 'No'}   \n",
              "3   {'PhoneService': 'Yes', 'MultipleLines': 'No'}   \n",
              "4   {'PhoneService': 'Yes', 'MultipleLines': 'No'}   \n",
              "\n",
              "                                            internet  \\\n",
              "0  {'InternetService': 'DSL', 'OnlineSecurity': '...   \n",
              "1  {'InternetService': 'DSL', 'OnlineSecurity': '...   \n",
              "2  {'InternetService': 'Fiber optic', 'OnlineSecu...   \n",
              "3  {'InternetService': 'Fiber optic', 'OnlineSecu...   \n",
              "4  {'InternetService': 'Fiber optic', 'OnlineSecu...   \n",
              "\n",
              "                                             account  \n",
              "0  {'Contract': 'One year', 'PaperlessBilling': '...  \n",
              "1  {'Contract': 'Month-to-month', 'PaperlessBilli...  \n",
              "2  {'Contract': 'Month-to-month', 'PaperlessBilli...  \n",
              "3  {'Contract': 'Month-to-month', 'PaperlessBilli...  \n",
              "4  {'Contract': 'Month-to-month', 'PaperlessBilli...  "
            ]
          },
          "execution_count": 79,
          "metadata": {},
          "output_type": "execute_result"
        }
      ],
      "source": [
        "# Bibliotecas necessárias\n",
        "import pandas as pd\n",
        "\n",
        "# URL dos dados JSON\n",
        "url = \"https://raw.githubusercontent.com/alura-cursos/challenge2-data-science/main/TelecomX_Data.json\"\n",
        "\n",
        "# Lendo os dados\n",
        "df = pd.read_json(url)\n",
        "\n",
        "# Exibindo as primeiras linhas\n",
        "df.head()\n"
      ]
    },
    {
      "cell_type": "markdown",
      "metadata": {
        "id": "1gePzjoAv8II"
      },
      "source": [
        " Transformação"
      ]
    },
    {
      "cell_type": "code",
      "execution_count": 80,
      "metadata": {
        "colab": {
          "base_uri": "https://localhost:8080/"
        },
        "id": "OQqiigZLv96A",
        "outputId": "ceb804ed-a4bd-4797-bcf9-8e0abfa08cc6"
      },
      "outputs": [
        {
          "name": "stdout",
          "output_type": "stream",
          "text": [
            "<class 'pandas.core.frame.DataFrame'>\n",
            "RangeIndex: 7267 entries, 0 to 7266\n",
            "Data columns (total 6 columns):\n",
            " #   Column      Non-Null Count  Dtype \n",
            "---  ------      --------------  ----- \n",
            " 0   customerID  7267 non-null   object\n",
            " 1   Churn       7267 non-null   object\n",
            " 2   customer    7267 non-null   object\n",
            " 3   phone       7267 non-null   object\n",
            " 4   internet    7267 non-null   object\n",
            " 5   account     7267 non-null   object\n",
            "dtypes: object(6)\n",
            "memory usage: 340.8+ KB\n"
          ]
        }
      ],
      "source": [
        "# Verificando as colunas e tipos de dados\n",
        "df.info()\n"
      ]
    },
    {
      "cell_type": "code",
      "execution_count": 81,
      "metadata": {
        "colab": {
          "base_uri": "https://localhost:8080/",
          "height": 272
        },
        "id": "Zs8U1-xCwDif",
        "outputId": "4d0869b6-b88a-4f69-9224-70bb1231cdd8"
      },
      "outputs": [
        {
          "data": {
            "text/plain": [
              "customerID    0\n",
              "Churn         0\n",
              "customer      0\n",
              "phone         0\n",
              "internet      0\n",
              "account       0\n",
              "dtype: int64"
            ]
          },
          "execution_count": 81,
          "metadata": {},
          "output_type": "execute_result"
        }
      ],
      "source": [
        "# Verificando valores ausentes\n",
        "df.isnull().sum()\n"
      ]
    },
    {
      "cell_type": "code",
      "execution_count": 82,
      "metadata": {
        "colab": {
          "base_uri": "https://localhost:8080/"
        },
        "id": "eoXP-xn-wHoX",
        "outputId": "fcf25597-0432-4a99-da1d-e9ddf30ecd74"
      },
      "outputs": [
        {
          "name": "stdout",
          "output_type": "stream",
          "text": [
            "<class 'pandas.core.frame.DataFrame'>\n",
            "RangeIndex: 7267 entries, 0 to 7266\n",
            "Data columns (total 6 columns):\n",
            " #   Column      Non-Null Count  Dtype \n",
            "---  ------      --------------  ----- \n",
            " 0   customerID  7267 non-null   object\n",
            " 1   Churn       7267 non-null   object\n",
            " 2   customer    7267 non-null   object\n",
            " 3   phone       7267 non-null   object\n",
            " 4   internet    7267 non-null   object\n",
            " 5   account     7267 non-null   object\n",
            "dtypes: object(6)\n",
            "memory usage: 340.8+ KB\n"
          ]
        }
      ],
      "source": [
        "# Removendo linhas com valores ausentes (pode ser substituído por imputação se preferir)\n",
        "df.dropna(inplace=True)\n",
        "\n",
        "# Confirmando a limpeza\n",
        "df.info()\n"
      ]
    },
    {
      "cell_type": "markdown",
      "metadata": {
        "id": "Xr2gxTkgwM6A"
      },
      "source": [
        "Carga e Análise (EDA – Análise Exploratória de Dados)"
      ]
    },
    {
      "cell_type": "code",
      "execution_count": 83,
      "metadata": {
        "id": "EwXmwmZYwOJn"
      },
      "outputs": [],
      "source": [
        "import seaborn as sns\n",
        "import matplotlib.pyplot as plt\n"
      ]
    },
    {
      "cell_type": "code",
      "execution_count": 84,
      "metadata": {
        "colab": {
          "base_uri": "https://localhost:8080/",
          "height": 480
        },
        "id": "mgAeeLxywWSW",
        "outputId": "2dbe3f7e-b441-4bed-ab52-bd92be6e12ba"
      },
      "outputs": [
        {
          "data": {
            "image/png": "[encoded data removed]",
            "text/plain": [
              "<Figure size 640x480 with 1 Axes>"
            ]
          },
          "metadata": {},
          "output_type": "display_data"
        }
      ],
      "source": [
        "# Distribuição de clientes que cancelaram e os que não cancelaram\n",
        "sns.countplot(data=df, x='Churn')\n",
        "plt.title('Distribuição de Churn')\n",
        "plt.xlabel('Churn')\n",
        "plt.ylabel('Quantidade')\n",
        "plt.show()\n"
      ]
    },
    {
      "cell_type": "code",
      "execution_count": 85,
      "metadata": {
        "colab": {
          "base_uri": "https://localhost:8080/"
        },
        "id": "WurDZlDEy-Y4",
        "outputId": "a37a8304-fca6-405b-aae7-e9c2d5311ac0"
      },
      "outputs": [
        {
          "name": "stdout",
          "output_type": "stream",
          "text": [
            "{'gender': 'Female', 'SeniorCitizen': 0, 'Partner': 'Yes', 'Dependents': 'Yes', 'tenure': 9}\n"
          ]
        }
      ],
      "source": [
        "print(df['customer'][0])\n"
      ]
    },
    {
      "cell_type": "code",
      "execution_count": 86,
      "metadata": {
        "id": "iylpJ0w2zbHn"
      },
      "outputs": [],
      "source": [
        "# Exemplo: extraindo o campo 'contract' do dicionário dentro da coluna 'customer'\n",
        "df['contract'] = df['customer'].apply(lambda x: x['contract'] if 'contract' in x else None)\n"
      ]
    },
    {
      "cell_type": "code",
      "execution_count": 87,
      "metadata": {
        "colab": {
          "base_uri": "https://localhost:8080/",
          "height": 483
        },
        "id": "1p3vMGOEzdwe",
        "outputId": "d68a43c9-3778-499b-e12b-4550ca7b1002"
      },
      "outputs": [
        {
          "data": {
            "image/png": "[encoded data removed]",
            "text/plain": [
              "<Figure size 640x480 with 1 Axes>"
            ]
          },
          "metadata": {},
          "output_type": "display_data"
        }
      ],
      "source": [
        "sns.countplot(data=df, x='contract', hue='Churn')\n",
        "plt.title('Churn por Tipo de Contrato')\n",
        "plt.xlabel('Tipo de Contrato')\n",
        "plt.ylabel('Quantidade')\n",
        "plt.xticks(rotation=30)\n",
        "plt.show()\n"
      ]
    },
    {
      "cell_type": "code",
      "execution_count": 88,
      "metadata": {
        "colab": {
          "base_uri": "https://localhost:8080/"
        },
        "id": "-wcSceb6z7NX",
        "outputId": "db8f77ec-6407-4235-c841-44901a9df141"
      },
      "outputs": [
        {
          "name": "stdout",
          "output_type": "stream",
          "text": [
            "Index([], dtype='object')\n"
          ]
        }
      ],
      "source": [
        "print(df.select_dtypes(include=['number']).columns)\n"
      ]
    },
    {
      "cell_type": "code",
      "execution_count": 89,
      "metadata": {
        "id": "mEDY4MZBzqkv"
      },
      "outputs": [],
      "source": [
        "# Exemplo: extrair a coluna 'monthly_charges' do dicionário na coluna 'account'\n",
        "df['monthly_charges'] = df['account'].apply(lambda x: x.get('monthly_charges', None))\n",
        "df['total_charges'] = df['account'].apply(lambda x: x.get('total_charges', None))\n"
      ]
    },
    {
      "cell_type": "code",
      "execution_count": 90,
      "metadata": {
        "colab": {
          "base_uri": "https://localhost:8080/",
          "height": 625
        },
        "id": "I6X7IHlh0EOe",
        "outputId": "bd196652-1dd2-49ce-bddc-f2c8e170580b"
      },
      "outputs": [
        {
          "name": "stderr",
          "output_type": "stream",
          "text": [
            "c:\\Users\\adsju\\AppData\\Local\\anaconda3\\Lib\\site-packages\\seaborn\\matrix.py:202: RuntimeWarning: All-NaN slice encountered\n",
            "  vmin = np.nanmin(calc_data)\n",
            "c:\\Users\\adsju\\AppData\\Local\\anaconda3\\Lib\\site-packages\\seaborn\\matrix.py:207: RuntimeWarning: All-NaN slice encountered\n",
            "  vmax = np.nanmax(calc_data)\n"
          ]
        },
        {
          "data": {
            "image/png": "[encoded data removed]",
            "text/plain": [
              "<Figure size 1000x600 with 2 Axes>"
            ]
          },
          "metadata": {},
          "output_type": "display_data"
        }
      ],
      "source": [
        "plt.figure(figsize=(10,6))\n",
        "sns.heatmap(df[['monthly_charges', 'total_charges']].corr(), annot=True, cmap='coolwarm')\n",
        "plt.title(\"Correlação entre Variáveis Numéricas\")\n",
        "plt.show()\n"
      ]
    },
    {
      "cell_type": "code",
      "execution_count": 91,
      "metadata": {
        "colab": {
          "base_uri": "https://localhost:8080/"
        },
        "id": "BPULbirB0IXF",
        "outputId": "96fbb2ec-b850-4e29-b439-a7d719224dd8"
      },
      "outputs": [
        {
          "name": "stdout",
          "output_type": "stream",
          "text": [
            "{'Contract': 'One year', 'PaperlessBilling': 'Yes', 'PaymentMethod': 'Mailed check', 'Charges': {'Monthly': 65.6, 'Total': '593.3'}}\n"
          ]
        }
      ],
      "source": [
        "print(df['account'][0])\n"
      ]
    },
    {
      "cell_type": "markdown",
      "metadata": {
        "id": "HfHWgBTn0XVU"
      },
      "source": [
        "Conclusão\n",
        "Neste projeto, a análise exploratória foi crucial para desvendar os principais fatores que impulsionam o churn na Telecom X. Ao tratar os dados meticulosamente e extrair informações essenciais, conseguimos identificar padrões claros relacionados a tipos de contrato, serviços utilizados e características específicas dos clientes que estão diretamente ligados à evasão.\n",
        "\n",
        "Os insights revelaram que certas combinações de contratos e serviços apresentam taxas de churn significativamente mais altas. Essa descoberta é um guia valioso para a Telecom X, permitindo que a empresa direcione seus esforços e recursos para os grupos de clientes mais propensos a cancelar.\n",
        "\n",
        "Próximos Passos e Recomendações\n",
        "Com base nessas descobertas, recomendamos que a Telecom X:\n",
        "\n",
        "Aprimore seus modelos preditivos de churn, incorporando as variáveis e padrões identificados para uma previsão ainda mais precisa.\n",
        "\n",
        "Implemente estratégias de retenção personalizadas, focando em ofertas diferenciadas e melhorias no atendimento ao cliente para os segmentos de maior risco.\n",
        "\n",
        "Este projeto reafirma o poder de um processo completo de ETL (Extração, Transformação e Carga) e da análise exploratória de dados como pilares para a tomada de decisões estratégicas. Ao adotar uma abordagem orientada por dados, a Telecom X pode não apenas promover a fidelização de seus clientes, mas também garantir um crescimento mais sustentável e robusto."
      ]
    },
    {
      "cell_type": "code",
      "execution_count": null,
      "metadata": {
        "id": "KbDNjWqI0Ysd"
      },
      "outputs": [],
      "source": []
    }
  ],
  "metadata": {
    "colab": {
      "provenance": []
    },
    "kernelspec": {
      "display_name": "base",
      "language": "python",
      "name": "python3"
    },
    "language_info": {
      "codemirror_mode": {
        "name": "ipython",
        "version": 3
      },
      "file_extension": ".py",
      "mimetype": "text/x-python",
      "name": "python",
      "nbconvert_exporter": "python",
      "pygments_lexer": "ipython3",
      "version": "3.12.7"
    }
  },
  "nbformat": 4,
  "nbformat_minor": 0
}
